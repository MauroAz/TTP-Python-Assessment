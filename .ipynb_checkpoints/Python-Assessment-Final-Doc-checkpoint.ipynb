{
 "cells": [
  {
   "cell_type": "code",
   "execution_count": null,
   "metadata": {},
   "outputs": [],
   "source": [
    "''' #1\n",
    "Write a function called 'addBetween'.\n",
    "\n",
    "Given 2 integers, \"addBetween\" returns the sum \n",
    "of all numbers between the two given integers, \n",
    "beginning at num1, and excluding num2.\n",
    "\n",
    "\n",
    "If num2 is not greater than num1, the function should return 0.\n",
    "output = addBetween(3, 7)\n",
    "print(output) # --> 18\n",
    "'''"
   ]
  },
  {
   "cell_type": "code",
   "execution_count": 2,
   "metadata": {},
   "outputs": [
    {
     "name": "stdout",
     "output_type": "stream",
     "text": [
      "18\n"
     ]
    }
   ],
   "source": [
    "def addBetween(num1, num2):\n",
    "    if num1 >= num2:\n",
    "        return 0\n",
    "    \n",
    "    result = 0\n",
    "    for num in range(num1, num2):\n",
    "        result += num\n",
    "    \n",
    "    return result\n",
    "\n",
    "output = addBetween(3, 7)\n",
    "print(output)"
   ]
  },
  {
   "cell_type": "code",
   "execution_count": null,
   "metadata": {},
   "outputs": [],
   "source": [
    "''' #2\n",
    "write a function called 'combine'\n",
    "\n",
    "Given two lists, combine returns a new list\n",
    "with all elements of both lists, sorted\n",
    "\n",
    "lst1 = ['b', 'c','a','f']\n",
    "lst2 = ['d','e','g']\n",
    "\n",
    "output = combine(lst1,lst2)\n",
    "print(output) # -> ['a','b','c','d','e','f', 'g']"
   ]
  },
  {
   "cell_type": "code",
   "execution_count": 3,
   "metadata": {},
   "outputs": [
    {
     "name": "stdout",
     "output_type": "stream",
     "text": [
      "['a', 'b', 'c', 'd', 'e', 'f', 'g']\n"
     ]
    }
   ],
   "source": [
    "lst1 = ['b', 'c','a','f']\n",
    "lst2 = ['d','e','g']\n",
    "\n",
    "#output = combine(lst1,lst2)\n",
    "#print(output) # -> ['a','b','c','d','e','f', 'g']\n",
    "\n",
    "joinedlist = lst1 + lst2\n",
    "print(sorted(joinedlist))"
   ]
  },
  {
   "cell_type": "code",
   "execution_count": 4,
   "metadata": {},
   "outputs": [
    {
     "name": "stdout",
     "output_type": "stream",
     "text": [
      "['a', 'b', 'c', 'd', 'e', 'f', 'g']\n"
     ]
    }
   ],
   "source": [
    "lst1 = ['b', 'c','a','f']\n",
    "lst2 = ['d','e','g']\n",
    "#def combine():\n",
    "for i in lst2 :\n",
    "    lst1.append(i)\n",
    "print(sorted(lst1))"
   ]
  },
  {
   "cell_type": "code",
   "execution_count": null,
   "metadata": {},
   "outputs": [],
   "source": [
    "''' #3\n",
    "write a function called 'switch'\n",
    "Given a dictionary, the function switch returns a new dictionary\n",
    "with the keys and values reversed\n",
    "\n",
    "d = {'cat': 1, 'dog':2, 'parrot':3, 'raptor':4, 'snake':5}\n",
    "output = switch(d)\n",
    "print(output) # -> {1:'cat', 2:'dog', 3:'parrot', 4:'raptor', 5:'snake'}\n",
    "\n",
    "'''"
   ]
  },
  {
   "cell_type": "code",
   "execution_count": 9,
   "metadata": {},
   "outputs": [
    {
     "name": "stdout",
     "output_type": "stream",
     "text": [
      "{1: 'cat', 2: 'dog', 3: 'parrot', 4: 'raptor', 5: 'snake'}\n"
     ]
    }
   ],
   "source": [
    "switch_dic = dict(map(reversed, d.items()))\n",
    "d = {'cat': 1, 'dog':2, 'parrot':3, 'raptor':4, 'snake':5}\n",
    "\n",
    "print (switch_dic)"
   ]
  },
  {
   "cell_type": "code",
   "execution_count": 8,
   "metadata": {},
   "outputs": [
    {
     "ename": "NameError",
     "evalue": "name 'new_dict' is not defined",
     "output_type": "error",
     "traceback": [
      "\u001b[0;31m---------------------------------------------------------------------------\u001b[0m",
      "\u001b[0;31mNameError\u001b[0m                                 Traceback (most recent call last)",
      "\u001b[0;32m<ipython-input-8-0a46a9b06c46>\u001b[0m in \u001b[0;36m<module>\u001b[0;34m\u001b[0m\n\u001b[1;32m      9\u001b[0m \u001b[0md\u001b[0m \u001b[0;34m=\u001b[0m \u001b[0;34m{\u001b[0m\u001b[0;34m'cat'\u001b[0m\u001b[0;34m:\u001b[0m \u001b[0;36m1\u001b[0m\u001b[0;34m,\u001b[0m \u001b[0;34m'dog'\u001b[0m\u001b[0;34m:\u001b[0m\u001b[0;36m2\u001b[0m\u001b[0;34m,\u001b[0m \u001b[0;34m'parrot'\u001b[0m\u001b[0;34m:\u001b[0m\u001b[0;36m3\u001b[0m\u001b[0;34m,\u001b[0m \u001b[0;34m'raptor'\u001b[0m\u001b[0;34m:\u001b[0m\u001b[0;36m4\u001b[0m\u001b[0;34m,\u001b[0m \u001b[0;34m'snake'\u001b[0m\u001b[0;34m:\u001b[0m\u001b[0;36m5\u001b[0m\u001b[0;34m}\u001b[0m\u001b[0;34m\u001b[0m\u001b[0;34m\u001b[0m\u001b[0m\n\u001b[1;32m     10\u001b[0m \u001b[0;34m\u001b[0m\u001b[0m\n\u001b[0;32m---> 11\u001b[0;31m \u001b[0mprint\u001b[0m \u001b[0;34m(\u001b[0m\u001b[0mnew_dict\u001b[0m\u001b[0;34m)\u001b[0m\u001b[0;34m\u001b[0m\u001b[0;34m\u001b[0m\u001b[0m\n\u001b[0m",
      "\u001b[0;31mNameError\u001b[0m: name 'new_dict' is not defined"
     ]
    }
   ],
   "source": [
    "####don't know how to make a function out it... ?\n",
    "def switch(d):\n",
    "  new_dict = {}\n",
    "  for k in d:\n",
    "    for v in d[k]:\n",
    "      new_dict.setdefault(v, []).append(k)\n",
    "  return new_dict\n",
    "\n",
    "d = {'cat': 1, 'dog':2, 'parrot':3, 'raptor':4, 'snake':5}\n",
    "\n",
    "print (new_dict)"
   ]
  },
  {
   "cell_type": "code",
   "execution_count": null,
   "metadata": {},
   "outputs": [],
   "source": [
    "''' #4\n",
    "Write a function called 'isSameLength'.\n",
    "\n",
    "Given two words, \"isSameLength\" returns whether the given \n",
    "words have the same length.\n",
    "\n",
    "output = isSameLength('words', 'super')\n",
    "print(output) # --> True\n",
    "'''"
   ]
  },
  {
   "cell_type": "code",
   "execution_count": 10,
   "metadata": {},
   "outputs": [
    {
     "name": "stdout",
     "output_type": "stream",
     "text": [
      "True\n"
     ]
    }
   ],
   "source": [
    "def isSameLength(x, y):\n",
    "  return len(x) == len(y)\n",
    "print(isSameLength ('words', 'super'))"
   ]
  },
  {
   "cell_type": "code",
   "execution_count": null,
   "metadata": {},
   "outputs": [],
   "source": [
    "''' #5\n",
    "write a function called 'stringToWords'\n",
    "given a string with two sentences, stringToWords\n",
    "separate the sentences into two lists of words, one for each sentence.\n",
    "\n",
    "string1 = \"This was a sentence. And it's now a list.\"\n",
    "output = stringToWords(string1)\n",
    "print(output) ->  ['This', 'was', 'a', 'sentence'],['And', \"it's\", 'now', 'a', 'list']\n",
    "\n",
    "'''"
   ]
  },
  {
   "cell_type": "code",
   "execution_count": 13,
   "metadata": {},
   "outputs": [
    {
     "name": "stdout",
     "output_type": "stream",
     "text": [
      "['This', 'was', 'a', 'sentence']\n",
      "['And', \"it's\", 'now', 'a', 'list.']\n"
     ]
    }
   ],
   "source": [
    "def stringToWords(x):\n",
    "    x1, x2 = x.split('.', 1)\n",
    "    print (x1.split(' '))\n",
    "    print (x2.strip().split(' '))\n",
    "string1 = \"This was a sentence. And it's now a list.\"\n",
    "stringToWords(string1)"
   ]
  },
  {
   "cell_type": "code",
   "execution_count": null,
   "metadata": {},
   "outputs": [],
   "source": [
    "''' #6\n",
    "write a function called 'bigSixSmall'\n",
    "\n",
    "given a list of numbers, bigSixSmall returns a new list:\n",
    "if the number from the list is > 6, the new list should have \"Big\" in it\n",
    "if the number from the list is 6, the new list should have \"Six\" in it\n",
    "if the number from the list is < 6, the list should say \"Small\"\n",
    "\n",
    "list1 = [1,7,2,6,13]\n",
    "\n",
    "output = bigSixSmall(list1)\n",
    "print(output)  #-> ['Small', 'Big', 'Small', 'Six', 'Big' ] \n",
    "'''\n",
    "\n"
   ]
  },
  {
   "cell_type": "code",
   "execution_count": null,
   "metadata": {},
   "outputs": [],
   "source": [
    "list1 = [1,7,2,6,13]\n",
    "#def bigSixSmall(list1, num):\n",
    "  if num in list1 > 6:\n",
    "    print (\"Big\")\n",
    "  elif num in list1 == 6:\n",
    "    print (\"Six\")\n",
    "  else:\n",
    "    print (\"Small\")\n",
    "  \n",
    "  #list1 = [1,7,2,6,13]"
   ]
  },
  {
   "cell_type": "code",
   "execution_count": null,
   "metadata": {},
   "outputs": [],
   "source": [
    "''' #7\n",
    "Write a function called 'select'.\n",
    "\n",
    "Given list and a dictionary, \"select\" returns a new dictionary\n",
    "whose keys are those in the given dictionary which are present \n",
    "in the given list.\n",
    "\n",
    "Notes:\n",
    "\n",
    "If keys are present in the given list, but are not in the given \n",
    "dictionary, it should ignore them.\n",
    "It does not modify the passed in dictionary.\n",
    "input_list = ['a', 'c', 'e']\n",
    "input_dict = {'a': 1, 'b': 2, 'c': 3, 'd': 4}\n",
    "\n",
    "output = select(input_list, input_dict)\n",
    "print(output) # --> {'a': 1, 'c': 3}\n",
    "\n",
    "print(input_dict) # --> {'a': 1, 'b': 2, 'c': 3, 'd': 4}\n",
    "'''"
   ]
  },
  {
   "cell_type": "code",
   "execution_count": null,
   "metadata": {},
   "outputs": [],
   "source": [
    "input_list = ['a', 'c', 'e']\n",
    "input_dict = {'a': 1, 'b': 2, 'c': 3, 'd': 4}\n",
    "def select():\n",
    "  \n",
    "\n",
    "output = select(input_list, input_dict)\n",
    "print(output) # --> {'a': 1, 'c': 3}\n",
    "\n",
    "print(input_dict) # --> {'a': 1, 'b': 2, 'c': 3, 'd': 4}"
   ]
  },
  {
   "cell_type": "code",
   "execution_count": null,
   "metadata": {},
   "outputs": [],
   "source": [
    "''' #8\n",
    "Write a function called 'to_dictionary' that takes in\n",
    "a list of numbers as input\n",
    "and returns a dictionary.\n",
    "\n",
    "The keys should be each number from the input list,\n",
    "and the values should be \n",
    "True if the number is even \n",
    "or False if the number is odd\n",
    "\n",
    "output = to_dictionary([3,6,9,12,15])\n",
    "print(output) -->  {3:False, 6:True, 9:False, 12:True, 15:False}\n",
    "'''"
   ]
  }
 ],
 "metadata": {
  "kernelspec": {
   "display_name": "Python 3",
   "language": "python",
   "name": "python3"
  }
 },
 "nbformat": 4,
 "nbformat_minor": 2
}
